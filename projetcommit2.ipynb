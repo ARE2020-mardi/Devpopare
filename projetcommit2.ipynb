{
 "cells": [
  {
   "cell_type": "code",
   "execution_count": 1,
   "metadata": {
    "colab": {},
    "colab_type": "code",
    "id": "h72s_6heIsXS"
   },
   "outputs": [],
   "source": [
    "import math\n",
    "from random import *\n",
    "def projet_chasseurs_dehors(pdr,cdm,p):   #pdr : prise de risque / cdm : chance de mourir
                                               #fonction pour 1 tour de boucle représentant une année\n",
    "                                          # j'ai mis le p en paramètre pour faciliter l'ajout de fonctions externes à la boucle 1 an  \n",
    "                                          # mais pour la facilité ce serait plus simple de coder les fonctions annexes d'abord \n",
    "                                          # et de tout rassembler à la fin\n",
    "    \"\"\"float*float->list[int]             \n",
    "       prend en parametres deux floats prise de risques et chance de mourir, affiche la population\"\"\"\n",
    "\n",
    "    #p:int\n",
    "    ((((p=10     #p correspond à la population)))) #on mets ça en paramètre mais il restera fixé.\n",
    "\n",
    "    #j:int   #j correspond au nombre de chasse/jour\n",
    "\n",
    "    #chasseur:int   #nombre de chasseurs\n",
    "    chasseur=int(pdr*p)\n",
    "    p=p-chasseur\n",
    "    #l:list[]\n",
    "    l=[]\n",
    "    for i in range (chasseur) :\n",
    "        l.append(1)\n",
    "       \n",
    "    for k in l:\n",
    "        if cdm > random():\n",
    "            l.remove(k)\n",
    "\n",
    "\n",
    "\n",
    "    #return l\n",
    "       \n",
    "\n",
    "    saison = randint(1,4) # nombre généré aléatoire entre 1 et 4, voir fct meteo\n",
    "        \n",
    "    reproduction(l,p,conditions_meteo(saison)) #on lance la reproduction\n",
    "        \n",
    "        "
   ]
  },
  {
   "cell_type": "code",
   "execution_count": 11,
   "metadata": {},
   "outputs": [],
   "source": [
    "def reproduction(l_chasseur,p,proba_meteo):\n",
    "    l_village = []\n",
    "    for pers in range(p):\n",
    "        l_village.append(1)\n",
    "    for chass in l_chasseur:\n",
    "        l_village.append(chass) #retour de chasseur + reproduction\n",
    "        l_village.append(chass)\n",
    "        \n",
    "        "
   ]
  },
  {
   "cell_type": "code",
   "execution_count": null,
   "metadata": {},
   "outputs": [],
   "source": [
    "def conditions_meteo(saison):   #les nombres de 1 à 4 représentent chacun une saison qui influera sur le paramètre proba_meteo \n",
    "    reprod_rate = 0             # de la fonction reproduction\n",
    "    if saison == 1:    #hiver\n",
    "        reprod_rate = 0.6\n",
    "    \n",
    "    if saison == 2:    #printemps\n",
    "        reprod_rate = 1\n",
    "    if saison == 3:    #été\n",
    "        reprod_rate = 0.8\n",
    "    if saison == 4:    #automne\n",
    "        reprod_rate = 0.8\n",
    "    \n",
    "    return reprod_rate\n",
    "\n",
    "#j'ai mis des chiffres au hasard pour l'instant mais on pourra améliorer ça avec des sources plus tard"
   ]
  },
  {
   "cell_type": "code",
   "execution_count": 8,
   "metadata": {
    "colab": {
     "base_uri": "https://localhost:8080/",
     "height": 35
    },
    "colab_type": "code",
    "id": "-16DmSFyOn_O",
    "outputId": "888a8292-86ef-4088-8262-fc71daa440b3"
   },
   "outputs": [
    {
     "data": {
      "text/plain": [
       "[1, 1, 1, 1]"
      ]
     },
     "execution_count": 8,
     "metadata": {},
     "output_type": "execute_result"
    }
   ],
   "source": [
    "projet_chasseurs_dehors(0.4,0.5)"
   ]
  },
  {
   "cell_type": "code",
   "execution_count": 14,
   "metadata": {},
   "outputs": [
    {
     "data": {
      "text/plain": [
       "[1, 1, 1, 1, 1, 1, 1, 1, 1, 1, 1]"
      ]
     },
     "execution_count": 14,
     "metadata": {},
     "output_type": "execute_result"
    }
   ],
   "source": [
    "reproduction(projet_chasseurs_dehors(0.4,0.5),5)"
   ]
  },
  {
   "cell_type": "code",
   "execution_count": null,
   "metadata": {},
   "outputs": [],
   "source": []
  }
 ],
 "metadata": {
  "colab": {
   "collapsed_sections": [],
   "name": "Untitled0.ipynb",
   "provenance": []
  },
  "kernelspec": {
   "display_name": "Python 3",
   "language": "python",
   "name": "python3"
  },
  "language_info": {
   "codemirror_mode": {
    "name": "ipython",
    "version": 3
   },
   "file_extension": ".py",
   "mimetype": "text/x-python",
   "name": "python",
   "nbconvert_exporter": "python",
   "pygments_lexer": "ipython3",
   "version": "3.7.4"
  }
 },
 "nbformat": 4,
 "nbformat_minor": 1
}
