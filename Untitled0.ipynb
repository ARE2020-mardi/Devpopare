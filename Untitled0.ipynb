{
  "nbformat": 4,
  "nbformat_minor": 0,
  "metadata": {
    "colab": {
      "name": "Untitled0.ipynb",
      "provenance": [],
      "collapsed_sections": []
    },
    "kernelspec": {
      "name": "python3",
      "display_name": "Python 3"
    }
  },
  "cells": [
    {
      "cell_type": "code",
      "metadata": {
        "id": "h72s_6heIsXS",
        "colab_type": "code",
        "colab": {}
      },
      "source": [
        "import math\n",
        "from random import *\n",
        "def projet(pdr,cdm):\n",
        "    \"\"\"float*float->list[int]\n",
        "       prend en parametres deux floats prise de risques et chance de mourir, affiche la population\"\"\"\n",
        "\n",
        "    #p:int\n",
        "    p=10     #p correspond à la population\n",
        "\n",
        "    #j:int   #j correspond au nombre de chasse/jour\n",
        "\n",
        "    #chasseur:int   #nombre de chasseurs\n",
        "    chasseur=int(pdr*p)\n",
        "    p=p-chasseur\n",
        "    #l:list[]\n",
        "    l=[]\n",
        "    for i in range (chasseur) :\n",
        "      l.append(1)\n",
        "       \n",
        "    for k in l:\n",
        "      if cdm > random():\n",
        "        l.remove(k)\n",
        "\n",
        "\n",
        "\n",
        "    return l\n",
        "       \n",
        "\n"
      ],
      "execution_count": 0,
      "outputs": []
    },
    {
      "cell_type": "code",
      "metadata": {
        "id": "-16DmSFyOn_O",
        "colab_type": "code",
        "outputId": "888a8292-86ef-4088-8262-fc71daa440b3",
        "colab": {
          "base_uri": "https://localhost:8080/",
          "height": 35
        }
      },
      "source": [
        "projet(0.4,0.5)"
      ],
      "execution_count": 0,
      "outputs": [
        {
          "output_type": "execute_result",
          "data": {
            "text/plain": [
              "[1, 1, 1, 1]"
            ]
          },
          "metadata": {
            "tags": []
          },
          "execution_count": 23
        }
      ]
    }
  ]
}